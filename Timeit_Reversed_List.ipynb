{
 "cells": [
  {
   "cell_type": "markdown",
   "metadata": {
    "toc": true
   },
   "source": [
    "<h1>Table of Contents<span class=\"tocSkip\"></span></h1>\n",
    "<div class=\"toc\"><ul class=\"toc-item\"><li><span><a href=\"#Импорты\" data-toc-modified-id=\"Импорты-1\"><span class=\"toc-item-num\">1&nbsp;&nbsp;</span>Импорты</a></span></li><li><span><a href=\"#Реализация-reversel-list\" data-toc-modified-id=\"Реализация-reversel-list-2\"><span class=\"toc-item-num\">2&nbsp;&nbsp;</span>Реализация reversel list</a></span></li><li><span><a href=\"#Время-работы-функций\" data-toc-modified-id=\"Время-работы-функций-3\"><span class=\"toc-item-num\">3&nbsp;&nbsp;</span>Время работы функций</a></span></li><li><span><a href=\"#Затраты-по-памяти\" data-toc-modified-id=\"Затраты-по-памяти-4\"><span class=\"toc-item-num\">4&nbsp;&nbsp;</span>Затраты по памяти</a></span></li><li><span><a href=\"#Интересная-визуализация\" data-toc-modified-id=\"Интересная-визуализация-5\"><span class=\"toc-item-num\">5&nbsp;&nbsp;</span>Интересная визуализация</a></span></li></ul></div>"
   ]
  },
  {
   "cell_type": "markdown",
   "metadata": {},
   "source": [
    "# Импорты"
   ]
  },
  {
   "cell_type": "code",
   "execution_count": 1,
   "metadata": {},
   "outputs": [],
   "source": [
    "import timeit\n",
    "import numpy as np\n",
    "import seaborn as sns\n",
    "sns.set(rc={'figure.figsize':(18,10)})\n",
    "%load_ext snakeviz\n",
    "%load_ext memory_profiler"
   ]
  },
  {
   "cell_type": "markdown",
   "metadata": {},
   "source": [
    "# Реализация reversel list\n"
   ]
  },
  {
   "cell_type": "code",
   "execution_count": 2,
   "metadata": {},
   "outputs": [],
   "source": [
    "lst = list(range(1000))"
   ]
  },
  {
   "cell_type": "code",
   "execution_count": 3,
   "metadata": {},
   "outputs": [],
   "source": [
    "def reverse_with_range(s: list) -> list:\n",
    "    reversed_output = []\n",
    "    s_length = len(s)\n",
    "    for i in range(s_length-1, 0-1, -1):\n",
    "        reversed_output.append(s[i])\n",
    "    return reversed_output"
   ]
  },
  {
   "cell_type": "code",
   "execution_count": 4,
   "metadata": {},
   "outputs": [],
   "source": [
    "def reverse_with_insert(s: list) -> list:\n",
    "    reversed_output = []\n",
    "    for c in s:\n",
    "        reversed_output.insert(0,c)\n",
    "    return reversed_output"
   ]
  },
  {
   "cell_type": "code",
   "execution_count": 5,
   "metadata": {},
   "outputs": [],
   "source": [
    "def reverse_swap(s: list) -> list:\n",
    "    s_length = len(s)\n",
    "    s_list = s.copy()\n",
    "    j = s_length-1\n",
    "    for i in range(s_length-1):\n",
    "        swap_var = s_list[j]\n",
    "        s_list[j] = s_list[i] \n",
    "        s_list[i] = swap_var\n",
    "        j=j-1\n",
    "        if (j<i):\n",
    "            break\n",
    "    return s_list"
   ]
  },
  {
   "cell_type": "code",
   "execution_count": 6,
   "metadata": {},
   "outputs": [],
   "source": [
    "def reverse_bultin(s: list) -> list:\n",
    "    s_list = s.copy()\n",
    "    return s_list.reverse()"
   ]
  },
  {
   "cell_type": "code",
   "execution_count": 7,
   "metadata": {},
   "outputs": [],
   "source": [
    "def reverse_list_index(s: list) -> list:\n",
    "    return s[::-1]"
   ]
  },
  {
   "cell_type": "code",
   "execution_count": 8,
   "metadata": {},
   "outputs": [],
   "source": [
    "functions_names = [\"reverse_with_range\", \"reverse_with_insert\", \"reverse_swap\", \"reverse_bultin\", \"reverse_list_index\"]"
   ]
  },
  {
   "cell_type": "markdown",
   "metadata": {},
   "source": [
    "# Время работы функций"
   ]
  },
  {
   "cell_type": "code",
   "execution_count": 9,
   "metadata": {},
   "outputs": [],
   "source": [
    "SETUP_CODE = '''\n",
    "from __main__ import {}\n",
    "lst = list(range(1000))\n",
    "'''\n",
    "      \n",
    "TEST_CODE = '''\n",
    "{}(lst)\n",
    "    '''"
   ]
  },
  {
   "cell_type": "code",
   "execution_count": 10,
   "metadata": {},
   "outputs": [],
   "source": [
    "def calc_time():\n",
    "    time_result = []\n",
    "\n",
    "    for i in range(len(functions_names)):\n",
    "        times = timeit.timeit(\n",
    "                              setup = SETUP_CODE.format(functions_names[i]),\n",
    "                              stmt = TEST_CODE.format(functions_names[i]))\n",
    "        time_result.append(times)  \n",
    "    return time_result"
   ]
  },
  {
   "cell_type": "code",
   "execution_count": 11,
   "metadata": {},
   "outputs": [],
   "source": [
    "result = calc_time()"
   ]
  },
  {
   "cell_type": "code",
   "execution_count": 13,
   "metadata": {},
   "outputs": [
    {
     "data": {
      "text/html": [
       "<div>\n",
       "<style scoped>\n",
       "    .dataframe tbody tr th:only-of-type {\n",
       "        vertical-align: middle;\n",
       "    }\n",
       "\n",
       "    .dataframe tbody tr th {\n",
       "        vertical-align: top;\n",
       "    }\n",
       "\n",
       "    .dataframe thead th {\n",
       "        text-align: right;\n",
       "    }\n",
       "</style>\n",
       "<table border=\"1\" class=\"dataframe\">\n",
       "  <thead>\n",
       "    <tr style=\"text-align: right;\">\n",
       "      <th></th>\n",
       "      <th>Methods</th>\n",
       "      <th>Time</th>\n",
       "    </tr>\n",
       "  </thead>\n",
       "  <tbody>\n",
       "    <tr>\n",
       "      <th>0</th>\n",
       "      <td>reverse_with_range</td>\n",
       "      <td>57.320887</td>\n",
       "    </tr>\n",
       "    <tr>\n",
       "      <th>1</th>\n",
       "      <td>reverse_with_insert</td>\n",
       "      <td>313.625011</td>\n",
       "    </tr>\n",
       "    <tr>\n",
       "      <th>2</th>\n",
       "      <td>reverse_swap</td>\n",
       "      <td>59.349674</td>\n",
       "    </tr>\n",
       "    <tr>\n",
       "      <th>3</th>\n",
       "      <td>reverse_bultin</td>\n",
       "      <td>2.006396</td>\n",
       "    </tr>\n",
       "    <tr>\n",
       "      <th>4</th>\n",
       "      <td>reverse_list_index</td>\n",
       "      <td>1.720138</td>\n",
       "    </tr>\n",
       "  </tbody>\n",
       "</table>\n",
       "</div>"
      ],
      "text/plain": [
       "               Methods        Time\n",
       "0   reverse_with_range   57.320887\n",
       "1  reverse_with_insert  313.625011\n",
       "2         reverse_swap   59.349674\n",
       "3       reverse_bultin    2.006396\n",
       "4   reverse_list_index    1.720138"
      ]
     },
     "execution_count": 13,
     "metadata": {},
     "output_type": "execute_result"
    }
   ],
   "source": [
    "import pandas as pd\n",
    "d = {'Methods':functions_names,'Time':result}\n",
    "df = pd.DataFrame(d)\n",
    "df"
   ]
  },
  {
   "cell_type": "code",
   "execution_count": 14,
   "metadata": {},
   "outputs": [
    {
     "data": {
      "text/plain": [
       "<matplotlib.axes._subplots.AxesSubplot at 0x203711483c8>"
      ]
     },
     "execution_count": 14,
     "metadata": {},
     "output_type": "execute_result"
    },
    {
     "data": {
      "image/png": "[encoded data removed]",
      "text/plain": [
       "<Figure size 1296x720 with 1 Axes>"
      ]
     },
     "metadata": {},
     "output_type": "display_data"
    }
   ],
   "source": [
    "sns.barplot(x=functions_names, y=result)"
   ]
  },
  {
   "cell_type": "markdown",
   "metadata": {},
   "source": [
    "# Затраты по памяти"
   ]
  },
  {
   "cell_type": "code",
   "execution_count": 15,
   "metadata": {
    "scrolled": true
   },
   "outputs": [
    {
     "name": "stdout",
     "output_type": "stream",
     "text": [
      "peak memory: 138.30 MiB, increment: 0.09 MiB\n"
     ]
    }
   ],
   "source": [
    "%memit reverse_with_range(lst)"
   ]
  },
  {
   "cell_type": "code",
   "execution_count": 16,
   "metadata": {},
   "outputs": [
    {
     "name": "stdout",
     "output_type": "stream",
     "text": [
      "peak memory: 138.33 MiB, increment: 0.02 MiB\n"
     ]
    }
   ],
   "source": [
    "%memit reverse_with_insert(lst)"
   ]
  },
  {
   "cell_type": "code",
   "execution_count": 17,
   "metadata": {},
   "outputs": [
    {
     "name": "stdout",
     "output_type": "stream",
     "text": [
      "peak memory: 138.34 MiB, increment: 0.00 MiB\n"
     ]
    }
   ],
   "source": [
    "%memit reverse_swap(lst)"
   ]
  },
  {
   "cell_type": "code",
   "execution_count": 18,
   "metadata": {},
   "outputs": [
    {
     "name": "stdout",
     "output_type": "stream",
     "text": [
      "peak memory: 138.35 MiB, increment: 0.00 MiB\n"
     ]
    }
   ],
   "source": [
    "%memit reverse_bultin(lst)"
   ]
  },
  {
   "cell_type": "code",
   "execution_count": 19,
   "metadata": {},
   "outputs": [
    {
     "name": "stdout",
     "output_type": "stream",
     "text": [
      "peak memory: 138.37 MiB, increment: 0.00 MiB\n"
     ]
    }
   ],
   "source": [
    "%memit reverse_list_index(lst)"
   ]
  }
 ],
 "metadata": {
  "kernelspec": {
   "display_name": "Python 3",
   "language": "python",
   "name": "python3"
  },
  "language_info": {
   "codemirror_mode": {
    "name": "ipython",
    "version": 3
   },
   "file_extension": ".py",
   "mimetype": "text/x-python",
   "name": "python",
   "nbconvert_exporter": "python",
   "pygments_lexer": "ipython3",
   "version": "3.7.4"
  },
  "toc": {
   "base_numbering": 1,
   "nav_menu": {},
   "number_sections": true,
   "sideBar": true,
   "skip_h1_title": false,
   "title_cell": "Table of Contents",
   "title_sidebar": "Contents",
   "toc_cell": true,
   "toc_position": {},
   "toc_section_display": true,
   "toc_window_display": false
  }
 },
 "nbformat": 4,
 "nbformat_minor": 4
}
